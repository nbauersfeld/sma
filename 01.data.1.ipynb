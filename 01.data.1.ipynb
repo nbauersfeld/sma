{
 "cells": [
  {
   "attachments": {},
   "cell_type": "markdown",
   "metadata": {},
   "source": [
    "### collect\n",
    "\n",
    "collect raw data from a folder by date  \n",
    "a folder can be a local backup or online; depends on mobile device store  \n",
    "raw data is given by a special mobile app (developed for this project)  \n",
    "  \n",
    "every folder has a list of image files with a corresponding meta file  \n",
    "meta files containing sample specific image information about \n",
    "- camera settings, \n",
    "- user inputs and \n",
    "- on site conditions (weather, location)"
   ]
  },
  {
   "cell_type": "code",
   "execution_count": 10,
   "metadata": {},
   "outputs": [
    {
     "name": "stdout",
     "output_type": "stream",
     "text": [
      "folders: 15, files per folder: 28, sample date: 2023-06-14\n",
      "author                           NOB\n",
      "version   2023-08-20 03:14:03.773152\n"
     ]
    }
   ],
   "source": [
    "import os\n",
    "import numpy as np\n",
    "import configparser as cp\n",
    "\n",
    "import datetime, socket\n",
    "\n",
    "fpath = os.path.join(os.getcwd(), \"raw\", \"2023-06-14\")\n",
    "fmeta = [[f,[os.path.join(os.path.join(fpath,f),m) for m in os.listdir(os.path.join(fpath,f)) if m.endswith(\".meta\")]] for f in os.listdir(fpath) if os.path.isdir(os.path.join(fpath,f))]\n",
    "fnames = [(m[0],m[1][0]) for m in fmeta if len(m[1])>0]\n",
    "\n",
    "# stamp of sample (known)\n",
    "sdate = datetime.datetime.strptime(\"2023-06-14\",\"%Y-%m-%d\").date()\n",
    "\n",
    "def ini_date(fname):\n",
    "  rc = None\n",
    "  conf = None\n",
    "  try:\n",
    "      conf = cp.ConfigParser(interpolation=None)\n",
    "      conf.read(fname, encoding=\"utf8\")\n",
    "      rc = datetime.datetime.strptime(conf[\"image\"][\"stamp\"],\"%Y-%m-%d %H:%M:%S\").date()            \n",
    "  except cp.ParsingError as argument:            \n",
    "      conf.clear()\n",
    "  return rc\n",
    "  \n",
    "ffolders = [(fid,ini_date(fname),fname) for fid,fname in fnames] \n",
    "ffolders = [[fid,fname] for fid,fdate,fname in ffolders if fdate==sdate]\n",
    "\n",
    "print(f\"folders: {len(ffolders)}, files per folder: {len(fnames)}, sample date: {sdate}\")\n",
    "\n",
    "print(f\"author  {socket.gethostname():>28}\")\n",
    "print(f\"version {str(datetime.datetime.now()):>28}\")\n"
   ]
  },
  {
   "attachments": {},
   "cell_type": "markdown",
   "metadata": {},
   "source": [
    "### request   \n",
    "\n",
    "request meta data for every folder by a given sample concentration, reagent and their timestamp  "
   ]
  },
  {
   "cell_type": "code",
   "execution_count": 8,
   "metadata": {},
   "outputs": [],
   "source": [
    "def ini_meta(fname):\n",
    "  rc = None\n",
    "  conf = None\n",
    "  try:\n",
    "      \n",
    "      conf = cp.ConfigParser(interpolation=None)\n",
    "      conf.read(fname, encoding=\"utf8\")\n",
    "\n",
    "      con = conf[\"controls\"][\"concentration\"]\n",
    "      for s,t in [(\">\",\"\"),(\",\",\".\"),(\"?\",\"0\")]: con = con.replace(s,t)\n",
    "      rea = conf[\"controls\"][\"reagent\"]\n",
    "      dat = datetime.datetime.strptime(conf[\"image\"][\"stamp\"],\"%Y-%m-%d %H:%M:%S\").date()\n",
    "\n",
    "      flo = np.round(float(con),6)\n",
    "      rc = [rea,flo,str(flo),dat]\n",
    "\n",
    "  except cp.ParsingError as argument:            \n",
    "      conf.clear()\n",
    "  return rc\n",
    "\n",
    "fmeta = [ini_meta(fname)+[fid,fname] for fid,fname in ffolders]"
   ]
  },
  {
   "cell_type": "code",
   "execution_count": 9,
   "metadata": {},
   "outputs": [],
   "source": [
    "import pandas as pd\n",
    "fframes = pd.DataFrame(fmeta,columns=[\"rea\",\"flo\",\"slo\",\"dat\",\"id\",\"info\"]).sort_values(by=[\"rea\",\"flo\"]).reset_index(drop=True)"
   ]
  },
  {
   "attachments": {},
   "cell_type": "markdown",
   "metadata": {},
   "source": [
    "### copy\n",
    "\n",
    "copy files from raw file folders to data folders  \n",
    "raw file folders data is given by uuid/\\*.\\*  \n",
    "data file folders files then ordered by <b>data\\\\stamp\\\\reagent</b>  \n",
    "  \n",
    "> this gives a label for further analysis  "
   ]
  },
  {
   "cell_type": "code",
   "execution_count": 10,
   "metadata": {},
   "outputs": [],
   "source": [
    "import shutil\n",
    "\n",
    "fdata = os.path.join(os.getcwd(),\"data\")\n",
    "\n",
    "for index,row in fframes.iterrows():\n",
    "\n",
    "  fsource = os.path.join(fpath,row[\"id\"])  \n",
    "  ftarget = os.path.join(fdata,str(row[\"dat\"]),row[\"rea\"],row[\"slo\"])\n",
    "  finfo = row[\"info\"]\n",
    "  \n",
    "  if not os.path.exists(ftarget): os.makedirs(ftarget)  \n",
    "  \n",
    "  fnames = [os.path.join(fsource,fname) for fname in os.listdir(fsource) if os.path.isfile(os.path.join(fsource,fname)) & fname.endswith(\".jpg\")]\n",
    "\n",
    "  if len(fnames)==0:\n",
    "    continue\n",
    "  \n",
    "  shutil.copy2(finfo,ftarget)\n",
    "\n",
    "  for fname in fnames: \n",
    "    shutil.copy2(fname,ftarget)"
   ]
  },
  {
   "cell_type": "markdown",
   "metadata": {},
   "source": [
    "last (manual) update: 2023-08-28"
   ]
  }
 ],
 "metadata": {
  "kernelspec": {
   "display_name": "venv-wisa",
   "language": "python",
   "name": "python3"
  },
  "language_info": {
   "codemirror_mode": {
    "name": "ipython",
    "version": 3
   },
   "file_extension": ".py",
   "mimetype": "text/x-python",
   "name": "python",
   "nbconvert_exporter": "python",
   "pygments_lexer": "ipython3",
   "version": "3.10.7"
  },
  "orig_nbformat": 4
 },
 "nbformat": 4,
 "nbformat_minor": 2
}
