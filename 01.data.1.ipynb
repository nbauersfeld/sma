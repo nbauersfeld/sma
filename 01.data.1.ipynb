{
 "cells": [
  {
   "attachments": {},
   "cell_type": "markdown",
   "metadata": {},
   "source": [
    "Collect data from OneDrive folder by date"
   ]
  },
  {
   "cell_type": "code",
   "execution_count": 1,
   "metadata": {},
   "outputs": [
    {
     "name": "stdout",
     "output_type": "stream",
     "text": [
      "folders 15 at 2023-06-14 with files of 28\n"
     ]
    }
   ],
   "source": [
    "import os\n",
    "import numpy as np\n",
    "import configparser as cp\n",
    "\n",
    "import datetime\n",
    "\n",
    "fpath = r\"C:\\Develop\\vsc\\sma\\raw\\2023-06-14\"\n",
    "fmeta = [[f,[os.path.join(os.path.join(fpath,f),m) for m in os.listdir(os.path.join(fpath,f)) if m.endswith(\".meta\")]] for f in os.listdir(fpath) if os.path.isdir(os.path.join(fpath,f))]\n",
    "fnames = [(m[0],m[1][0]) for m in fmeta if len(m[1])>0]\n",
    "\n",
    "sdate = datetime.datetime.strptime(\"2023-06-14\",\"%Y-%m-%d\").date()\n",
    "\n",
    "def ini_date(fname):\n",
    "  rc = None\n",
    "  conf = None\n",
    "  try:\n",
    "      conf = cp.ConfigParser(interpolation=None)\n",
    "      conf.read(fname, encoding=\"utf8\")\n",
    "      rc = datetime.datetime.strptime(conf[\"image\"][\"stamp\"],\"%Y-%m-%d %H:%M:%S\").date()            \n",
    "  except cp.ParsingError as argument:            \n",
    "      conf.clear()\n",
    "  return rc\n",
    "  \n",
    "ffolders = [(fid,ini_date(fname),fname) for fid,fname in fnames] \n",
    "ffolders = [[fid,fname] for fid,fdate,fname in ffolders if fdate==sdate]\n",
    "\n",
    "print(\"folders\",len(ffolders),\"at\",sdate,\"with files of\",len(fnames))"
   ]
  },
  {
   "attachments": {},
   "cell_type": "markdown",
   "metadata": {},
   "source": [
    "Request meta data for every folder by\n",
    "<ul>\n",
    "<li>concentration</li>\n",
    "<li>reagent</li>\n",
    "<li>stamp</li>\n",
    "</ul>"
   ]
  },
  {
   "cell_type": "code",
   "execution_count": 7,
   "metadata": {},
   "outputs": [],
   "source": [
    "def ini_meta(fname):\n",
    "  rc = None\n",
    "  conf = None\n",
    "  try:\n",
    "      \n",
    "      conf = cp.ConfigParser(interpolation=None)\n",
    "      conf.read(fname, encoding=\"utf8\")\n",
    "\n",
    "      con = conf[\"controls\"][\"concentration\"]\n",
    "      for s,t in [(\">\",\"\"),(\",\",\".\"),(\"?\",\"0\")]: con = con.replace(s,t)\n",
    "      rea = conf[\"controls\"][\"reagent\"]\n",
    "      dat = datetime.datetime.strptime(conf[\"image\"][\"stamp\"],\"%Y-%m-%d %H:%M:%S\").date()\n",
    "\n",
    "      flo = np.round(float(con),6)\n",
    "      rc = [rea,flo,str(flo),dat]\n",
    "\n",
    "  except cp.ParsingError as argument:            \n",
    "      conf.clear()\n",
    "  return rc\n",
    "\n",
    "fmeta = [ini_meta(fname)+[fid,fname] for fid,fname in ffolders]"
   ]
  },
  {
   "cell_type": "code",
   "execution_count": 9,
   "metadata": {},
   "outputs": [],
   "source": [
    "import pandas as pd\n",
    "fframes = pd.DataFrame(fmeta,columns=[\"rea\",\"flo\",\"slo\",\"dat\",\"id\",\"info\"]).sort_values(by=[\"rea\",\"flo\"]).reset_index(drop=True)"
   ]
  },
  {
   "attachments": {},
   "cell_type": "markdown",
   "metadata": {},
   "source": [
    "Copy files from OneDrive folders to data folder by \n",
    "\n",
    "|--data<br>\n",
    "&nbsp;&nbsp;|--stamp<br>\n",
    "&nbsp;&nbsp;&nbsp;&nbsp;|--reagent"
   ]
  },
  {
   "cell_type": "code",
   "execution_count": 10,
   "metadata": {},
   "outputs": [],
   "source": [
    "import shutil\n",
    "\n",
    "fdata = os.path.join(os.getcwd(),\"data\")\n",
    "\n",
    "for index,row in fframes.iterrows():\n",
    "\n",
    "  fsource = os.path.join(fpath,row[\"id\"])  \n",
    "  ftarget = os.path.join(fdata,str(row[\"dat\"]),row[\"rea\"],row[\"slo\"])\n",
    "  finfo = row[\"info\"]\n",
    "  \n",
    "  if not os.path.exists(ftarget): os.makedirs(ftarget)  \n",
    "  \n",
    "  fnames = [os.path.join(fsource,fname) for fname in os.listdir(fsource) if os.path.isfile(os.path.join(fsource,fname)) & fname.endswith(\".jpg\")]\n",
    "\n",
    "  if len(fnames)==0:\n",
    "    continue\n",
    "  \n",
    "  shutil.copy2(finfo,ftarget)\n",
    "\n",
    "  for fname in fnames: \n",
    "    shutil.copy2(fname,ftarget)"
   ]
  }
 ],
 "metadata": {
  "kernelspec": {
   "display_name": "venv-wisa",
   "language": "python",
   "name": "python3"
  },
  "language_info": {
   "codemirror_mode": {
    "name": "ipython",
    "version": 3
   },
   "file_extension": ".py",
   "mimetype": "text/x-python",
   "name": "python",
   "nbconvert_exporter": "python",
   "pygments_lexer": "ipython3",
   "version": "3.10.7"
  },
  "orig_nbformat": 4
 },
 "nbformat": 4,
 "nbformat_minor": 2
}
