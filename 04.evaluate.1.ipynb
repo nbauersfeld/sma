{
 "cells": [
  {
   "cell_type": "code",
   "execution_count": 1,
   "metadata": {},
   "outputs": [],
   "source": [
    "import os\n",
    "import pandas as pd\n",
    "import numpy as np\n",
    "import matplotlib.pyplot as plt\n",
    "\n",
    "fprojects = [\n",
    "  (\"Nitrit NO2\",\"2023-06-13\"),\n",
    "  (\"Nitrit NO2\",\"2023-06-14\")\n",
    "]\n",
    "\n",
    "metric = \"euclidean\"\n",
    "space = \"lab\"\n"
   ]
  },
  {
   "cell_type": "markdown",
   "metadata": {},
   "source": [
    "### load projects\n",
    "\n",
    "\n",
    "data result folder, reagenz specific"
   ]
  },
  {
   "cell_type": "code",
   "execution_count": 2,
   "metadata": {},
   "outputs": [
    {
     "name": "stdout",
     "output_type": "stream",
     "text": [
      "|    | project               |   index |   label | metric    | space   |        l |        a |        b | date       |\n",
      "|---:|:----------------------|--------:|--------:|:----------|:--------|---------:|---------:|---------:|:-----------|\n",
      "|  0 | Nitrit NO2_2023-06-13 |       0 |   0.01  | euclidean | lab     | 0.430652 | 0.517578 | 0.562847 | 2023-06-13 |\n",
      "|  1 | Nitrit NO2_2023-06-13 |       0 |   0.034 | euclidean | lab     | 0.413787 | 0.529351 | 0.56121  | 2023-06-13 |\n",
      "|  2 | Nitrit NO2_2023-06-13 |       0 |   0.061 | euclidean | lab     | 0.378746 | 0.541572 | 0.559957 | 2023-06-13 |\n",
      "|  3 | Nitrit NO2_2023-06-13 |       0 |   0.095 | euclidean | lab     | 0.361228 | 0.55648  | 0.558924 | 2023-06-13 |\n",
      "|  4 | Nitrit NO2_2023-06-13 |       0 |   0.121 | euclidean | lab     | 0.345198 | 0.566267 | 0.559216 | 2023-06-13 |\n",
      "|  5 | Nitrit NO2_2023-06-13 |       0 |   0.155 | euclidean | lab     | 0.326846 | 0.577057 | 0.558882 | 2023-06-13 |\n",
      "|  6 | Nitrit NO2_2023-06-13 |       0 |   0.181 | euclidean | lab     | 0.334527 | 0.587767 | 0.561369 | 2023-06-13 |\n",
      "|  7 | Nitrit NO2_2023-06-13 |       0 |   0.213 | euclidean | lab     | 0.306793 | 0.596199 | 0.560651 | 2023-06-13 |\n",
      "|  8 | Nitrit NO2_2023-06-13 |       0 |   0.249 | euclidean | lab     | 0.285046 | 0.604229 | 0.561675 | 2023-06-13 |\n",
      "|  9 | Nitrit NO2_2023-06-13 |       0 |   0.281 | euclidean | lab     | 0.297915 | 0.614686 | 0.565486 | 2023-06-13 |\n",
      "| 10 | Nitrit NO2_2023-06-13 |       0 |   0.308 | euclidean | lab     | 0.286659 | 0.619983 | 0.566869 | 2023-06-13 |\n",
      "| 11 | Nitrit NO2_2023-06-13 |       1 |   0.01  | euclidean | lab     | 0.644075 | 0.515441 | 0.563179 | 2023-06-13 |\n",
      "| 12 | Nitrit NO2_2023-06-13 |       1 |   0.034 | euclidean | lab     | 0.630156 | 0.527379 | 0.561797 | 2023-06-13 |\n",
      "| 13 | Nitrit NO2_2023-06-13 |       1 |   0.061 | euclidean | lab     | 0.596937 | 0.540428 | 0.561409 | 2023-06-13 |\n",
      "| 14 | Nitrit NO2_2023-06-13 |       1 |   0.095 | euclidean | lab     | 0.581824 | 0.555439 | 0.561385 | 2023-06-13 |\n",
      "| 15 | Nitrit NO2_2023-06-13 |       1 |   0.121 | euclidean | lab     | 0.55899  | 0.566075 | 0.560565 | 2023-06-13 |\n",
      "| 16 | Nitrit NO2_2023-06-13 |       1 |   0.155 | euclidean | lab     | 0.531837 | 0.579102 | 0.560403 | 2023-06-13 |\n",
      "| 17 | Nitrit NO2_2023-06-13 |       1 |   0.181 | euclidean | lab     | 0.537491 | 0.589724 | 0.562013 | 2023-06-13 |\n",
      "| 18 | Nitrit NO2_2023-06-13 |       1 |   0.213 | euclidean | lab     | 0.509933 | 0.601963 | 0.560297 | 2023-06-13 |\n",
      "| 19 | Nitrit NO2_2023-06-13 |       1 |   0.249 | euclidean | lab     | 0.480194 | 0.6144   | 0.561493 | 2023-06-13 |\n",
      "| 20 | Nitrit NO2_2023-06-13 |       1 |   0.281 | euclidean | lab     | 0.497341 | 0.625097 | 0.564474 | 2023-06-13 |\n",
      "| 21 | Nitrit NO2_2023-06-13 |       1 |   0.308 | euclidean | lab     | 0.475971 | 0.633514 | 0.564525 | 2023-06-13 |\n",
      "|  0 | Nitrit NO2_2023-06-14 |       0 |   0.035 | euclidean | lab     | 0.351554 | 0.529403 | 0.554066 | 2023-06-14 |\n",
      "|  1 | Nitrit NO2_2023-06-14 |       0 |   0.04  | euclidean | lab     | 0.368202 | 0.53157  | 0.553719 | 2023-06-14 |\n",
      "|  2 | Nitrit NO2_2023-06-14 |       0 |   0.045 | euclidean | lab     | 0.360287 | 0.53266  | 0.55242  | 2023-06-14 |\n",
      "|  3 | Nitrit NO2_2023-06-14 |       0 |   0.06  | euclidean | lab     | 0.348242 | 0.5418   | 0.553428 | 2023-06-14 |\n",
      "|  4 | Nitrit NO2_2023-06-14 |       0 |   0.061 | euclidean | lab     | 0.345196 | 0.540679 | 0.552162 | 2023-06-14 |\n",
      "|  5 | Nitrit NO2_2023-06-14 |       0 |   0.071 | euclidean | lab     | 0.337483 | 0.543833 | 0.551637 | 2023-06-14 |\n",
      "|  6 | Nitrit NO2_2023-06-14 |       0 |   0.079 | euclidean | lab     | 0.349165 | 0.547556 | 0.551148 | 2023-06-14 |\n",
      "|  7 | Nitrit NO2_2023-06-14 |       0 |   0.088 | euclidean | lab     | 0.339264 | 0.552494 | 0.553381 | 2023-06-14 |\n",
      "|  8 | Nitrit NO2_2023-06-14 |       0 |   0.11  | euclidean | lab     | 0.322692 | 0.55992  | 0.550649 | 2023-06-14 |\n",
      "|  9 | Nitrit NO2_2023-06-14 |       0 |   0.115 | euclidean | lab     | 0.307571 | 0.56048  | 0.549631 | 2023-06-14 |\n",
      "| 10 | Nitrit NO2_2023-06-14 |       0 |   0.133 | euclidean | lab     | 0.304106 | 0.569878 | 0.551934 | 2023-06-14 |\n",
      "| 11 | Nitrit NO2_2023-06-14 |       0 |   0.136 | euclidean | lab     | 0.31436  | 0.570004 | 0.551149 | 2023-06-14 |\n",
      "| 12 | Nitrit NO2_2023-06-14 |       0 |   0.145 | euclidean | lab     | 0.30838  | 0.571421 | 0.551357 | 2023-06-14 |\n",
      "| 13 | Nitrit NO2_2023-06-14 |       0 |   0.151 | euclidean | lab     | 0.311173 | 0.575497 | 0.55266  | 2023-06-14 |\n",
      "| 14 | Nitrit NO2_2023-06-14 |       1 |   0.035 | euclidean | lab     | 0.558876 | 0.528863 | 0.558161 | 2023-06-14 |\n",
      "| 15 | Nitrit NO2_2023-06-14 |       1 |   0.04  | euclidean | lab     | 0.582824 | 0.530423 | 0.55634  | 2023-06-14 |\n",
      "| 16 | Nitrit NO2_2023-06-14 |       1 |   0.045 | euclidean | lab     | 0.566126 | 0.531868 | 0.555177 | 2023-06-14 |\n",
      "| 17 | Nitrit NO2_2023-06-14 |       1 |   0.06  | euclidean | lab     | 0.557156 | 0.541167 | 0.55693  | 2023-06-14 |\n",
      "| 18 | Nitrit NO2_2023-06-14 |       1 |   0.061 | euclidean | lab     | 0.558852 | 0.539801 | 0.555259 | 2023-06-14 |\n",
      "| 19 | Nitrit NO2_2023-06-14 |       1 |   0.071 | euclidean | lab     | 0.550422 | 0.543288 | 0.554581 | 2023-06-14 |\n",
      "| 20 | Nitrit NO2_2023-06-14 |       1 |   0.079 | euclidean | lab     | 0.553337 | 0.547462 | 0.55461  | 2023-06-14 |\n",
      "| 21 | Nitrit NO2_2023-06-14 |       1 |   0.088 | euclidean | lab     | 0.549267 | 0.552376 | 0.556124 | 2023-06-14 |\n",
      "| 22 | Nitrit NO2_2023-06-14 |       1 |   0.11  | euclidean | lab     | 0.526886 | 0.561351 | 0.553649 | 2023-06-14 |\n",
      "| 23 | Nitrit NO2_2023-06-14 |       1 |   0.115 | euclidean | lab     | 0.48678  | 0.563646 | 0.553363 | 2023-06-14 |\n",
      "| 24 | Nitrit NO2_2023-06-14 |       1 |   0.133 | euclidean | lab     | 0.504635 | 0.572808 | 0.555051 | 2023-06-14 |\n",
      "| 25 | Nitrit NO2_2023-06-14 |       1 |   0.136 | euclidean | lab     | 0.511474 | 0.571808 | 0.554084 | 2023-06-14 |\n",
      "| 26 | Nitrit NO2_2023-06-14 |       1 |   0.145 | euclidean | lab     | 0.509188 | 0.574032 | 0.553879 | 2023-06-14 |\n",
      "| 27 | Nitrit NO2_2023-06-14 |       1 |   0.151 | euclidean | lab     | 0.507472 | 0.578507 | 0.554197 | 2023-06-14 |\n"
     ]
    }
   ],
   "source": [
    "data = None\n",
    "\n",
    "for fproject in fprojects:\n",
    "\n",
    "    fname = os.path.join(os.getcwd(),\"data\",fproject[1],fproject[0],\"result\",f\"{space}.{metric}.values.pickle\")\n",
    "    \n",
    "    frame = pd.read_pickle(fname)\n",
    "    frame['project'] = \"_\".join(fproject)\n",
    "    frame['date'] = fproject[1]\n",
    "    if data is None: data = frame\n",
    "    else: data = pd.concat([data, frame])\n",
    "        \n",
    "print(data.to_markdown())"
   ]
  },
  {
   "cell_type": "markdown",
   "metadata": {},
   "source": [
    "### train/test set build"
   ]
  },
  {
   "cell_type": "code",
   "execution_count": 3,
   "metadata": {},
   "outputs": [],
   "source": [
    "train_set = 'Nitrit NO2_2023-06-13'\n",
    "test_set = 'Nitrit NO2_2023-06-14'\n",
    "\n",
    "data['train'] = 0\n",
    "data.loc[data['project']==train_set,'train'] = 1"
   ]
  },
  {
   "cell_type": "code",
   "execution_count": 4,
   "metadata": {},
   "outputs": [],
   "source": [
    "# store data to \"eval\"\n",
    "\n",
    "fprefix = \".\".join([\"_\".join(fproject) for fproject in fprojects])\n",
    "fname = os.path.join(os.getcwd(),\"eval\",\"%s.%s.%s.csv\"%(fprefix,space,metric))\n",
    "\n",
    "data.to_csv(fname,index=None)"
   ]
  },
  {
   "cell_type": "markdown",
   "metadata": {},
   "source": [
    "### separate train and test data set"
   ]
  },
  {
   "cell_type": "code",
   "execution_count": 5,
   "metadata": {},
   "outputs": [
    {
     "name": "stdout",
     "output_type": "stream",
     "text": [
      "----- train set     Nitrit NO2_2023-06-13\n",
      "<class 'pandas.core.frame.DataFrame'>\n",
      "Int64Index: 11 entries, 0 to 10\n",
      "Data columns (total 10 columns):\n",
      " #   Column   Non-Null Count  Dtype  \n",
      "---  ------   --------------  -----  \n",
      " 0   project  11 non-null     object \n",
      " 1   index    11 non-null     int8   \n",
      " 2   label    11 non-null     float32\n",
      " 3   metric   11 non-null     object \n",
      " 4   space    11 non-null     object \n",
      " 5   l        11 non-null     float32\n",
      " 6   a        11 non-null     float32\n",
      " 7   b        11 non-null     float32\n",
      " 8   date     11 non-null     object \n",
      " 9   train    11 non-null     int64  \n",
      "dtypes: float32(4), int64(1), int8(1), object(4)\n",
      "memory usage: 715.0+ bytes\n",
      "\n",
      "----- test  set     Nitrit NO2_2023-06-14\n",
      "<class 'pandas.core.frame.DataFrame'>\n",
      "Int64Index: 14 entries, 0 to 13\n",
      "Data columns (total 10 columns):\n",
      " #   Column   Non-Null Count  Dtype  \n",
      "---  ------   --------------  -----  \n",
      " 0   project  14 non-null     object \n",
      " 1   index    14 non-null     int8   \n",
      " 2   label    14 non-null     float32\n",
      " 3   metric   14 non-null     object \n",
      " 4   space    14 non-null     object \n",
      " 5   l        14 non-null     float32\n",
      " 6   a        14 non-null     float32\n",
      " 7   b        14 non-null     float32\n",
      " 8   date     14 non-null     object \n",
      " 9   train    14 non-null     int64  \n",
      "dtypes: float32(4), int64(1), int8(1), object(4)\n",
      "memory usage: 910.0+ bytes\n"
     ]
    }
   ],
   "source": [
    "# catch train and test items\n",
    "\n",
    "findex = 0 # number of sample\n",
    "\n",
    "train_items = data.loc[((data[\"index\"]==findex) & (data[\"train\"]==1)),:].sort_values(by=[\"label\"])\n",
    "test_items = data.loc[((data[\"index\"]==findex) & (data[\"train\"]==0)),:].sort_values(by=[\"label\"])\n",
    "\n",
    "print(f\"----- train set {train_set:>25}\")\n",
    "train_items.info()\n",
    "\n",
    "print(f\"\\n----- test  set {test_set:>25}\")\n",
    "test_items.info()"
   ]
  },
  {
   "cell_type": "markdown",
   "metadata": {},
   "source": [
    "### OLS 3d regression"
   ]
  },
  {
   "cell_type": "code",
   "execution_count": 6,
   "metadata": {},
   "outputs": [
    {
     "name": "stdout",
     "output_type": "stream",
     "text": [
      "--- params\n",
      " [-4.5289885  -0.69335474  1.66284858  7.06554825]\n",
      "--- std. errors\n",
      " [0.25929021 0.14922105 0.22997449 0.67512167]\n",
      "--- pred. values\n",
      " [0.00989512 0.02959436 0.06535885 0.09499843 0.1244518  0.15275668\n",
      " 0.18281524 0.21098792 0.24665405 0.28205096 0.30843659]\n",
      "--- summary\n",
      "                            OLS Regression Results                            \n",
      "==============================================================================\n",
      "Dep. Variable:                      z   R-squared:                       0.999\n",
      "Model:                            OLS   Adj. R-squared:                  0.999\n",
      "Method:                 Least Squares   F-statistic:                     3402.\n",
      "Date:                Tue, 18 Jul 2023   Prob (F-statistic):           1.96e-11\n",
      "Time:                        17:59:47   Log-Likelihood:                 50.237\n",
      "No. Observations:                  11   AIC:                            -92.47\n",
      "Df Residuals:                       7   BIC:                            -90.88\n",
      "Df Model:                           3                                         \n",
      "Covariance Type:            nonrobust                                         \n",
      "==============================================================================\n",
      "                 coef    std err          t      P>|t|      [0.025      0.975]\n",
      "------------------------------------------------------------------------------\n",
      "Intercept     -4.5290      0.259    -17.467      0.000      -5.142      -3.916\n",
      "L             -0.6934      0.149     -4.646      0.002      -1.046      -0.341\n",
      "a              1.6628      0.230      7.231      0.000       1.119       2.207\n",
      "b              7.0655      0.675     10.466      0.000       5.469       8.662\n",
      "==============================================================================\n",
      "Omnibus:                        0.087   Durbin-Watson:                   2.904\n",
      "Prob(Omnibus):                  0.958   Jarque-Bera (JB):                0.308\n",
      "Skew:                          -0.076   Prob(JB):                        0.857\n",
      "Kurtosis:                       2.194   Cond. No.                     1.04e+03\n",
      "==============================================================================\n",
      "\n",
      "Notes:\n",
      "[1] Standard Errors assume that the covariance matrix of the errors is correctly specified.\n",
      "[2] The condition number is large, 1.04e+03. This might indicate that there are\n",
      "strong multicollinearity or other numerical problems.\n"
     ]
    },
    {
     "name": "stderr",
     "output_type": "stream",
     "text": [
      "d:\\Environment\\venv-wisa\\lib\\site-packages\\scipy\\stats\\_stats_py.py:1769: UserWarning: kurtosistest only valid for n>=20 ... continuing anyway, n=11\n",
      "  warnings.warn(\"kurtosistest only valid for n>=20 ... continuing \"\n"
     ]
    }
   ],
   "source": [
    "# training data\n",
    "\n",
    "L = train_items[\"l\"].to_numpy(dtype=np.float32)\n",
    "a = train_items[\"a\"].to_numpy(dtype=np.float32)\n",
    "b = train_items[\"b\"].to_numpy(dtype=np.float32)\n",
    "z = train_items[\"label\"].to_numpy(dtype=np.float32)\n",
    "\n",
    "i = np.argsort(z)\n",
    "L,a,b,z = L[i],a[i],b[i],z[i]\n",
    "\n",
    "train_data = pd.DataFrame({'L': L, 'a': a, 'b': b, 'z': z})\n",
    "\n",
    "from statsmodels.formula.api import ols\n",
    "\n",
    "# formula by train_data\n",
    "# z: target\n",
    "# L,a,b: dependent variables to find coefficients\n",
    "\n",
    "formula = \"z ~ L + a + b\"\n",
    "\n",
    "# build model\n",
    "\n",
    "model = ols(formula, train_data).fit()\n",
    "\n",
    "print(\"--- params\\n\", model._results.params)\n",
    "print(\"--- std. errors\\n\", model._results.bse)\n",
    "print(\"--- pred. values\\n\", model._results.predict())\n",
    "\n",
    "print(\"--- summary\")\n",
    "print(model.summary())\n",
    "\n",
    "# ! dimensions correlated, given by kurtosis test\n"
   ]
  },
  {
   "cell_type": "markdown",
   "metadata": {},
   "source": [
    "### plot the model regressor for taget variables"
   ]
  },
  {
   "cell_type": "code",
   "execution_count": 7,
   "metadata": {},
   "outputs": [
    {
     "data": {
      "image/png": "[encoded data removed]",
      "text/plain": [
       "<Figure size 960x480 with 1 Axes>"
      ]
     },
     "metadata": {},
     "output_type": "display_data"
    }
   ],
   "source": [
    "pred_ols = model._results.get_prediction()\n",
    "\n",
    "iv_l = pred_ols.summary_frame()[\"obs_ci_lower\"]\n",
    "iv_u = pred_ols.summary_frame()[\"obs_ci_upper\"]\n",
    "\n",
    "iv_l,iv_u\n",
    "\n",
    "# ---------------------------\n",
    "\n",
    "plt.rcParams[\"font.size\"] = 8\n",
    "plt.rcParams[\"figure.dpi\"] = 80\n",
    "\n",
    "w = 12\n",
    "h = 6\n",
    "\n",
    "nrows,ncols = 1,1\n",
    "fig, ax = plt.subplots(nrows=nrows,ncols=ncols,figsize=[w*ncols,h*nrows],\n",
    "                    dpi=plt.rcParams[\"figure.dpi\"])\n",
    "\n",
    "ax.plot(model._results.fittedvalues,\"o:\",label=\"ols\")\n",
    "ax.plot(iv_l,\"r--\",label=\"lower\")\n",
    "ax.plot(iv_u,\"r--\",label=\"upper\")\n",
    "\n",
    "\n",
    "ax.legend()\n",
    "ax.set_ylabel(\"label\")\n",
    "ax.set_xlabel(\"item\")\n",
    "\n",
    "plt.show()\n",
    "plt.close()"
   ]
  },
  {
   "cell_type": "code",
   "execution_count": 8,
   "metadata": {},
   "outputs": [
    {
     "name": "stdout",
     "output_type": "stream",
     "text": [
      "           df    sum_sq   mean_sq            F        PR(>F)\n",
      "L         1.0  0.093477  0.093477  9413.649446  3.255501e-12\n",
      "a         1.0  0.006784  0.006784   683.157195  3.070276e-08\n",
      "b         1.0  0.001088  0.001088   109.528626  1.583694e-05\n",
      "Residual  7.0  0.000070  0.000010          NaN           NaN\n"
     ]
    }
   ],
   "source": [
    "from statsmodels.stats.anova import anova_lm\n",
    "\n",
    "anova_results = anova_lm(model)\n",
    "print(anova_results)"
   ]
  },
  {
   "cell_type": "markdown",
   "metadata": {},
   "source": [
    "### predict with OLS model test data"
   ]
  },
  {
   "cell_type": "code",
   "execution_count": 9,
   "metadata": {},
   "outputs": [
    {
     "name": "stdout",
     "output_type": "stream",
     "text": [
      "test 0.0011207765798804325\n"
     ]
    }
   ],
   "source": [
    "L = test_items[\"l\"].to_numpy(dtype=np.float32)\n",
    "a = test_items[\"a\"].to_numpy(dtype=np.float32)\n",
    "b = test_items[\"b\"].to_numpy(dtype=np.float32)\n",
    "z_test = test_items[\"label\"].to_numpy(dtype=np.float32)\n",
    "\n",
    "test_data = pd.DataFrame({'L': L, 'a': a, 'b': b, 'z' : z_test})\n",
    "\n",
    "z_pred = model.predict(test_data).to_numpy()\n",
    "\n",
    "mse_test = np.mean((z_test-z_pred)**2)\n",
    "\n",
    "print(\"test\",mse_test)"
   ]
  },
  {
   "cell_type": "code",
   "execution_count": 10,
   "metadata": {},
   "outputs": [
    {
     "name": "stdout",
     "output_type": "stream",
     "text": [
      "train 6.319075837941838e-06\n"
     ]
    }
   ],
   "source": [
    "# compare for conv.\n",
    "\n",
    "z_train = model.predict(train_data).to_numpy()\n",
    "mse_train = np.mean((z-z_train)**2)\n",
    "\n",
    "print(\"train\",mse_train)"
   ]
  },
  {
   "cell_type": "markdown",
   "metadata": {},
   "source": [
    "### plot the result\n",
    "\n",
    "how test data fits to prediction"
   ]
  },
  {
   "cell_type": "code",
   "execution_count": 11,
   "metadata": {},
   "outputs": [
    {
     "data": {
      "image/png": "[encoded data removed]",
      "text/plain": [
       "<Figure size 960x480 with 1 Axes>"
      ]
     },
     "metadata": {},
     "output_type": "display_data"
    }
   ],
   "source": [
    "plt.rcParams[\"font.size\"] = 8\n",
    "plt.rcParams[\"figure.dpi\"] = 80\n",
    "\n",
    "w = 12\n",
    "h = 6\n",
    "\n",
    "nrows,ncols = 1,1\n",
    "fig, ax = plt.subplots(nrows=nrows,ncols=ncols,figsize=[w*ncols,h*nrows],\n",
    "                    dpi=plt.rcParams[\"figure.dpi\"])\n",
    "\n",
    "ax.plot(z_test,\"+:\",label=\"test\")\n",
    "ax.plot(z_pred,\"o:\",label=\"predict\")\n",
    "ax.set_title(f\"z-test | mse: {mse_test:.6f}\")\n",
    "\n",
    "ax.legend()\n",
    "ax.set_ylabel(\"label\")\n",
    "ax.set_xlabel(\"item\")\n",
    "\n",
    "plt.show()\n",
    "plt.close()\n"
   ]
  }
 ],
 "metadata": {
  "kernelspec": {
   "display_name": "venv-zim",
   "language": "python",
   "name": "python3"
  },
  "language_info": {
   "codemirror_mode": {
    "name": "ipython",
    "version": 3
   },
   "file_extension": ".py",
   "mimetype": "text/x-python",
   "name": "python",
   "nbconvert_exporter": "python",
   "pygments_lexer": "ipython3",
   "version": "3.10.4"
  },
  "orig_nbformat": 4
 },
 "nbformat": 4,
 "nbformat_minor": 2
}
